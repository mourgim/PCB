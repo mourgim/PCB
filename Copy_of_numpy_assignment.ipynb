{
  "cells": [
    {
      "cell_type": "markdown",
      "metadata": {
        "id": "view-in-github",
        "colab_type": "text"
      },
      "source": [
        "<a href=\"https://colab.research.google.com/github/mourgim/PCB/blob/main/Copy_of_numpy_assignment.ipynb\" target=\"_parent\"><img src=\"https://colab.research.google.com/assets/colab-badge.svg\" alt=\"Open In Colab\"/></a>"
      ]
    },
    {
      "cell_type": "markdown",
      "metadata": {
        "id": "nR-iBY7bxWzz"
      },
      "source": [
        "<img src=\"./logo.jpg\" alt=\"لوگو\" style=\"width: 100px; display: block; margin-bottom: 10px; border: 2px solid #007BFF; border-radius: 10px; box-shadow: 5px 5px 15px rgba(0, 0, 0, 0.5);\">\n",
        "<div dir=\"rtl\" style=\"text-align: right; font-family: 'Vazir', Tahoma, Arial; color: #007BFF;\">\n",
        "\n",
        "<h1>باکس تمرین شماره 1:</h1>\n",
        "</div>\n",
        "<h1 style=\"font-family: 'consolas'; font-size: 3em; color: #007BFF;\">Numpy</h1>\n"
      ]
    },
    {
      "cell_type": "markdown",
      "metadata": {
        "id": "0STagL46xWz5"
      },
      "source": [
        "<div dir=\"rtl\" style=\"text-align: right; font-family: 'Vazir', Tahoma, Arial;\">\n",
        "<h2>توضحیات:</h2>\n",
        "<p>در این تمرین که شامل چندین سلول میشود، از شما خواسته میشود که کد های خود را در سلول هایی که دارای <code># TODO:Your Code</code> بنویسید. در این نوت بوک چندین سلول از پیش نوشته شده وجود دارد که از شما خواسته میشود که تغییری در این کد ها ایجاد نکنید.</p>\n",
        "<p> در صورت نیاز به رسم نمودار، رعایت اصول نمایش نمودار و سلیقه شما حائز اهمیت است.</p>\n",
        "<p style=\"color:#D91656;\">لازم به ذکر است که استفاده از دستور حلقه (for, while, do-while) در این تمرین اکیدا و مطلقا ممنوع است.</p>\n",
        "</div>\n"
      ]
    },
    {
      "cell_type": "markdown",
      "metadata": {
        "id": "ZDEKkQsjxWz7"
      },
      "source": [
        "<div dir=\"rtl\" style=\"text-align: right; font-family: 'Vazir', Tahoma, Arial;\">\n",
        "<h2>توابع آماده:</h2>\n",
        "<p>این توابع از پیش نوشته شده اند و لطفا تغییری در این توابع ایجاد نفرمایید.</p>\n",
        "<p>تابع <code>load_image</code> برای لود کردن تصویر از حافظه شما میباشد و که با فراخوانی آن تصویر خوانده شده و به صورت آرایه نامپای به شما تحویل داده میشود. پارامتر ورودی <code>src</code> در واقع ادرس تصویر در حافظه کامپیوتر شماست.</p>\n",
        "<p>تابع <code>show_image</code> برای نمایش تصویر میباشد و ورودی آن آرایه نامپای است.</p>\n",
        "</div>\n"
      ]
    },
    {
      "cell_type": "code",
      "execution_count": 1,
      "metadata": {
        "id": "fkdpkOuOxWz9"
      },
      "outputs": [],
      "source": [
        "import numpy as np\n",
        "import matplotlib.pyplot as plt\n",
        "import cv2"
      ]
    },
    {
      "cell_type": "code",
      "execution_count": 2,
      "metadata": {
        "id": "rontXbCexW0A"
      },
      "outputs": [],
      "source": [
        "def load_image(src='./out.png'):\n",
        "    image = cv2.imread(src)\n",
        "    return image"
      ]
    },
    {
      "cell_type": "code",
      "execution_count": 3,
      "metadata": {
        "id": "MaCUqTFbxW0B"
      },
      "outputs": [],
      "source": [
        "def show_image(img):\n",
        "    cv2.imshow('image', img)\n",
        "    cv2.waitKey(0)\n",
        "    cv2.destroyAllWindows()"
      ]
    },
    {
      "cell_type": "code",
      "execution_count": 4,
      "metadata": {
        "colab": {
          "base_uri": "https://localhost:8080/",
          "height": 408
        },
        "id": "pPf2aFDpxW0B",
        "outputId": "91caf580-00f3-4f44-e68e-605366089223"
      },
      "outputs": [
        {
          "output_type": "error",
          "ename": "DisabledFunctionError",
          "evalue": "cv2.imshow() is disabled in Colab, because it causes Jupyter sessions\nto crash; see https://github.com/jupyter/notebook/issues/3935.\nAs a substitution, consider using\n  from google.colab.patches import cv2_imshow\n",
          "traceback": [
            "\u001b[0;31m---------------------------------------------------------------------------\u001b[0m",
            "\u001b[0;31mDisabledFunctionError\u001b[0m                     Traceback (most recent call last)",
            "\u001b[0;32m<ipython-input-4-c8b145ff4fd7>\u001b[0m in \u001b[0;36m<cell line: 2>\u001b[0;34m()\u001b[0m\n\u001b[1;32m      1\u001b[0m \u001b[0mimg\u001b[0m \u001b[0;34m=\u001b[0m \u001b[0mload_image\u001b[0m\u001b[0;34m(\u001b[0m\u001b[0;34m)\u001b[0m\u001b[0;34m\u001b[0m\u001b[0;34m\u001b[0m\u001b[0m\n\u001b[0;32m----> 2\u001b[0;31m \u001b[0mshow_image\u001b[0m\u001b[0;34m(\u001b[0m\u001b[0mimg\u001b[0m\u001b[0;34m)\u001b[0m\u001b[0;34m\u001b[0m\u001b[0;34m\u001b[0m\u001b[0m\n\u001b[0m\u001b[1;32m      3\u001b[0m \u001b[0;31m# press q to close showing image\u001b[0m\u001b[0;34m\u001b[0m\u001b[0;34m\u001b[0m\u001b[0m\n",
            "\u001b[0;32m<ipython-input-3-085017263fc9>\u001b[0m in \u001b[0;36mshow_image\u001b[0;34m(img)\u001b[0m\n\u001b[1;32m      1\u001b[0m \u001b[0;32mdef\u001b[0m \u001b[0mshow_image\u001b[0m\u001b[0;34m(\u001b[0m\u001b[0mimg\u001b[0m\u001b[0;34m)\u001b[0m\u001b[0;34m:\u001b[0m\u001b[0;34m\u001b[0m\u001b[0;34m\u001b[0m\u001b[0m\n\u001b[0;32m----> 2\u001b[0;31m     \u001b[0mcv2\u001b[0m\u001b[0;34m.\u001b[0m\u001b[0mimshow\u001b[0m\u001b[0;34m(\u001b[0m\u001b[0;34m'image'\u001b[0m\u001b[0;34m,\u001b[0m \u001b[0mimg\u001b[0m\u001b[0;34m)\u001b[0m\u001b[0;34m\u001b[0m\u001b[0;34m\u001b[0m\u001b[0m\n\u001b[0m\u001b[1;32m      3\u001b[0m     \u001b[0mcv2\u001b[0m\u001b[0;34m.\u001b[0m\u001b[0mwaitKey\u001b[0m\u001b[0;34m(\u001b[0m\u001b[0;36m0\u001b[0m\u001b[0;34m)\u001b[0m\u001b[0;34m\u001b[0m\u001b[0;34m\u001b[0m\u001b[0m\n\u001b[1;32m      4\u001b[0m     \u001b[0mcv2\u001b[0m\u001b[0;34m.\u001b[0m\u001b[0mdestroyAllWindows\u001b[0m\u001b[0;34m(\u001b[0m\u001b[0;34m)\u001b[0m\u001b[0;34m\u001b[0m\u001b[0;34m\u001b[0m\u001b[0m\n",
            "\u001b[0;32m/usr/local/lib/python3.10/dist-packages/google/colab/_import_hooks/_cv2.py\u001b[0m in \u001b[0;36mwrapped\u001b[0;34m(*args, **kwargs)\u001b[0m\n\u001b[1;32m     46\u001b[0m   \u001b[0;32mdef\u001b[0m \u001b[0mwrapped\u001b[0m\u001b[0;34m(\u001b[0m\u001b[0;34m*\u001b[0m\u001b[0margs\u001b[0m\u001b[0;34m,\u001b[0m \u001b[0;34m**\u001b[0m\u001b[0mkwargs\u001b[0m\u001b[0;34m)\u001b[0m\u001b[0;34m:\u001b[0m\u001b[0;34m\u001b[0m\u001b[0;34m\u001b[0m\u001b[0m\n\u001b[1;32m     47\u001b[0m     \u001b[0;32mif\u001b[0m \u001b[0;32mnot\u001b[0m \u001b[0mos\u001b[0m\u001b[0;34m.\u001b[0m\u001b[0menviron\u001b[0m\u001b[0;34m.\u001b[0m\u001b[0mget\u001b[0m\u001b[0;34m(\u001b[0m\u001b[0menv_var\u001b[0m\u001b[0;34m,\u001b[0m \u001b[0;32mFalse\u001b[0m\u001b[0;34m)\u001b[0m\u001b[0;34m:\u001b[0m\u001b[0;34m\u001b[0m\u001b[0;34m\u001b[0m\u001b[0m\n\u001b[0;32m---> 48\u001b[0;31m       \u001b[0;32mraise\u001b[0m \u001b[0mDisabledFunctionError\u001b[0m\u001b[0;34m(\u001b[0m\u001b[0mmessage\u001b[0m\u001b[0;34m,\u001b[0m \u001b[0mname\u001b[0m \u001b[0;32mor\u001b[0m \u001b[0mfunc\u001b[0m\u001b[0;34m.\u001b[0m\u001b[0m__name__\u001b[0m\u001b[0;34m)\u001b[0m\u001b[0;34m\u001b[0m\u001b[0;34m\u001b[0m\u001b[0m\n\u001b[0m\u001b[1;32m     49\u001b[0m     \u001b[0;32mreturn\u001b[0m \u001b[0mfunc\u001b[0m\u001b[0;34m(\u001b[0m\u001b[0;34m*\u001b[0m\u001b[0margs\u001b[0m\u001b[0;34m,\u001b[0m \u001b[0;34m**\u001b[0m\u001b[0mkwargs\u001b[0m\u001b[0;34m)\u001b[0m\u001b[0;34m\u001b[0m\u001b[0;34m\u001b[0m\u001b[0m\n\u001b[1;32m     50\u001b[0m \u001b[0;34m\u001b[0m\u001b[0m\n",
            "\u001b[0;31mDisabledFunctionError\u001b[0m: cv2.imshow() is disabled in Colab, because it causes Jupyter sessions\nto crash; see https://github.com/jupyter/notebook/issues/3935.\nAs a substitution, consider using\n  from google.colab.patches import cv2_imshow\n"
          ],
          "errorDetails": {
            "actions": [
              {
                "action": "open_snippet",
                "actionText": "Search Snippets for cv2.imshow",
                "snippetFilter": "cv2.imshow"
              }
            ]
          }
        }
      ],
      "source": [
        "img = load_image()\n",
        "show_image(img)\n",
        "# press q to close showing image"
      ]
    },
    {
      "cell_type": "code",
      "source": [
        "from google.colab import drive\n",
        "drive.mount('/content/drive')"
      ],
      "metadata": {
        "id": "gV3XEv1XyWlv"
      },
      "execution_count": null,
      "outputs": []
    },
    {
      "cell_type": "markdown",
      "metadata": {
        "id": "Cy9O1dlwxW0C"
      },
      "source": [
        "<div dir=\"rtl\" style=\"text-align: right; font-family: 'Vazir', Tahoma, Arial;\">\n",
        "<h2>قسمت اول:</h2>\n",
        "<p>در این قسمت از شما خواسته میشود که <code>shape</code> و همینطور تایپ عناصر این آرایه را نمایش دهید.</p>\n",
        "</div>\n"
      ]
    },
    {
      "cell_type": "code",
      "execution_count": null,
      "metadata": {
        "id": "CwVXdohfxW0D"
      },
      "outputs": [],
      "source": [
        "# TODO: Your Code"
      ]
    },
    {
      "cell_type": "markdown",
      "metadata": {
        "id": "GbVRNW5bxW0F"
      },
      "source": [
        "<div dir=\"rtl\" style=\"text-align: right; font-family: 'Vazir', Tahoma, Arial;\">\n",
        "<h2>قسمت دوم:</h2>\n",
        "<p> با حال همانطور که مشاهده میکنید تصویر نمایش داده شده، 180 درجه نسبت به حالت اولیه خود دوران یافته. در این قسمت با استفاده از نامپای و با <b>دو روش</b> این تصویر را به حالت اول بازگردانید و با استفاده از تابع آماده بالا آنرا نمایش دهید.</p>\n",
        "</div>\n"
      ]
    },
    {
      "cell_type": "code",
      "execution_count": null,
      "metadata": {
        "id": "qY4jbuZ_xW0G"
      },
      "outputs": [],
      "source": [
        "# TODO: Your Code"
      ]
    },
    {
      "cell_type": "markdown",
      "metadata": {
        "id": "7-KZnPSNxW0G"
      },
      "source": [
        "<div dir=\"rtl\" style=\"text-align: right; font-family: 'Vazir', Tahoma, Arial;\">\n",
        "<h2>قسمت سوم:</h2>\n",
        "<p>در این قسمت از شما خواسته میشود که نمودار هیستوگرام پیکسل های هر لایه (RGB) از تصویر را رسم کنید. هر پیکسل با سطر و ستون یکسان، بزرگترین آن را در هر لایه پیدا کرده و این مجموعه را با تابع آماده بالا نمایش دهید.</p>\n",
        "</div>\n"
      ]
    },
    {
      "cell_type": "code",
      "execution_count": null,
      "metadata": {
        "id": "LRSa1MSuxW0I"
      },
      "outputs": [],
      "source": [
        "# TODO: Your Code"
      ]
    },
    {
      "cell_type": "markdown",
      "metadata": {
        "id": "G6RMyf3PxW0I"
      },
      "source": [
        "<div dir=\"rtl\" style=\"text-align: right; font-family: 'Vazir', Tahoma, Arial;\">\n",
        "<h2>قسمت چهارم:</h2>\n",
        "<p>حال برای هر لایه از تصویر، 5 پیکسلی که بیشترین فراوانی را دارند نمایش دهید.(فقط چاپ آن کافیست نیاز به کشیدن نمودار نیست.)</p>\n",
        "</div>\n"
      ]
    },
    {
      "cell_type": "code",
      "execution_count": null,
      "metadata": {
        "id": "U8XqbFBxxW0J"
      },
      "outputs": [],
      "source": [
        "# TODO: Your Code"
      ]
    },
    {
      "cell_type": "markdown",
      "metadata": {
        "id": "c5oHfiySxW0K"
      },
      "source": [
        "<div dir=\"rtl\" style=\"text-align: right; font-family: 'Vazir', Tahoma, Arial;\">\n",
        "<h2>قسمت پنجم:</h2>\n",
        "<p>در این تصویر پیکسل های سفید رنگی(سفید خالص) وجود دارد که نویز در تصویر به حساب می آیند. در این قسمت از شما خواسته میشود که مقدار آن را با میانگین خانه های اطراف آن جایگذاری کنید.(<b style=\"color:#D91656;\">توجه</b>: میانگین را با استفاده از نامپای محاسبه و جایگذاری کنید و به صورت دستی اینکار را انجام ندهید.)</p>\n",
        "</div>\n"
      ]
    },
    {
      "cell_type": "code",
      "execution_count": null,
      "metadata": {
        "id": "RCE_DlC0xW0L"
      },
      "outputs": [],
      "source": [
        "# TODO: Your Code"
      ]
    }
  ],
  "metadata": {
    "kernelspec": {
      "display_name": "base",
      "language": "python",
      "name": "python3"
    },
    "language_info": {
      "name": "python",
      "version": "3.11.4"
    },
    "colab": {
      "provenance": [],
      "include_colab_link": true
    }
  },
  "nbformat": 4,
  "nbformat_minor": 0
}